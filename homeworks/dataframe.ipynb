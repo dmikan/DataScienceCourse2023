{
 "cells": [
  {
   "cell_type": "markdown",
   "id": "761cd636-03b0-42b1-a2bd-63cb14663ec7",
   "metadata": {},
   "source": [
    "# Dataframes in Data Science\n",
    "\n",
    "<div style=\"text-align:center;\">\n",
    "    <img src=\"https://upload.wikimedia.org/wikipedia/commons/e/ed/Pandas_logo.svg\" alt=\"Python Logo\" width=\"200\">\n",
    "</div>\n",
    "\n",
    "**Author:** Danny Julián Perilla Mikán\n",
    "**About me:** I am a physics student with a keen interest in data science. My fascination with the field of data science stems from its immense potential to analyze and extract valuable insights from vast datasets. As a future scientist, I aspire to apply data science techniques to process and interpret data obtained from satellites.\n",
    "\n",
    "\n",
    "## What is a Data Frame in Pandas?\n",
    "\n",
    "In data science with Python, a Data Frame is a widely used two-dimensional data structure for data analysis and manipulation. It is a table of data organized into rows and columns, where each column contains different types of data (numeric, categorical, etc.).\n",
    "\n",
    "The mathematical representation of a Data Frame can be defined as a matrix with dimensions M x N, where M is the number of rows and N is the number of columns.\n",
    "\n",
    "### Example of Creating a Data Frame in Pandas\n",
    "\n",
    "In Python, we use the Pandas library to work with Data Frames. Here's an example of how to create one from a dictionary of data:\n"
   ]
  },
  {
   "cell_type": "code",
   "execution_count": 5,
   "id": "b66a408b-c988-4377-930d-7b051667d60d",
   "metadata": {
    "tags": []
   },
   "outputs": [
    {
     "data": {
      "text/html": [
       "<div>\n",
       "<style scoped>\n",
       "    .dataframe tbody tr th:only-of-type {\n",
       "        vertical-align: middle;\n",
       "    }\n",
       "\n",
       "    .dataframe tbody tr th {\n",
       "        vertical-align: top;\n",
       "    }\n",
       "\n",
       "    .dataframe thead th {\n",
       "        text-align: right;\n",
       "    }\n",
       "</style>\n",
       "<table border=\"1\" class=\"dataframe\">\n",
       "  <thead>\n",
       "    <tr style=\"text-align: right;\">\n",
       "      <th></th>\n",
       "      <th>Name</th>\n",
       "      <th>Age</th>\n",
       "      <th>Score</th>\n",
       "    </tr>\n",
       "  </thead>\n",
       "  <tbody>\n",
       "    <tr>\n",
       "      <th>0</th>\n",
       "      <td>Ana</td>\n",
       "      <td>25</td>\n",
       "      <td>85</td>\n",
       "    </tr>\n",
       "    <tr>\n",
       "      <th>1</th>\n",
       "      <td>Juan</td>\n",
       "      <td>30</td>\n",
       "      <td>92</td>\n",
       "    </tr>\n",
       "    <tr>\n",
       "      <th>2</th>\n",
       "      <td>María</td>\n",
       "      <td>22</td>\n",
       "      <td>78</td>\n",
       "    </tr>\n",
       "    <tr>\n",
       "      <th>3</th>\n",
       "      <td>Pedro</td>\n",
       "      <td>28</td>\n",
       "      <td>88</td>\n",
       "    </tr>\n",
       "  </tbody>\n",
       "</table>\n",
       "</div>"
      ],
      "text/plain": [
       "    Name  Age  Score\n",
       "0    Ana   25     85\n",
       "1   Juan   30     92\n",
       "2  María   22     78\n",
       "3  Pedro   28     88"
      ]
     },
     "execution_count": 5,
     "metadata": {},
     "output_type": "execute_result"
    }
   ],
   "source": [
    "import pandas as pd\n",
    "\n",
    "data = {\n",
    "    'Name': ['Ana', 'Juan', 'María', 'Pedro'],\n",
    "    'Age': [25, 30, 22, 28],\n",
    "    'Score': [85, 92, 78, 88]\n",
    "}\n",
    "\n",
    "df = pd.DataFrame(data)\n",
    "df"
   ]
  },
  {
   "cell_type": "markdown",
   "id": "16157422-be77-44ca-b6c5-789545dbfe66",
   "metadata": {},
   "source": [
    "If you want to see more about Pandas documentation [click here](https://pandas.pydata.org/docs/)."
   ]
  }
 ],
 "metadata": {
  "kernelspec": {
   "display_name": "Python 3 (ipykernel)",
   "language": "python",
   "name": "python3"
  },
  "language_info": {
   "codemirror_mode": {
    "name": "ipython",
    "version": 3
   },
   "file_extension": ".py",
   "mimetype": "text/x-python",
   "name": "python",
   "nbconvert_exporter": "python",
   "pygments_lexer": "ipython3",
   "version": "3.11.4"
  }
 },
 "nbformat": 4,
 "nbformat_minor": 5
}
