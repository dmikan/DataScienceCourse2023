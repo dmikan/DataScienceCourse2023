{
 "cells": [
  {
   "cell_type": "markdown",
   "id": "30c03d77-aaa8-437b-aa8f-923645a0bf80",
   "metadata": {},
   "source": [
    "<figure>\n",
    "<img src=\"http://www.dre.unal.edu.co/visitantes/assets/images/logoVerde.png\"  width=\"400\" height=\"400\" align=\"left\"/> \n",
    "</figure>"
   ]
  },
  {
   "cell_type": "markdown",
   "id": "e2594bd9-1645-47f5-8106-23f2da07a3d3",
   "metadata": {},
   "source": [
    "# <span style=\"color:red\"><center>Análisis de datos satelitales para la sostenibilidad de las comunidades a través del acceso a agua potable</center></span>"
   ]
  },
  {
   "cell_type": "markdown",
   "id": "ccc31085-0fe8-4662-9e13-23608ce4681f",
   "metadata": {},
   "source": [
    "## <span style=\"color:green\"><center>Reporte No. 1: Propuesta del proyecto</center></span>"
   ]
  },
  {
   "cell_type": "markdown",
   "id": "d98b6d81-7b32-44fa-9067-0bb1a20f9158",
   "metadata": {},
   "source": [
    "---\n",
    "### <center> **Resumen** </center>\n",
    "\n",
    "<div style=\"text-align: justify;\">\n",
    "    Durante el mes de agosto y septiembre se realizará un proyecto de análisis de imágenes satelitales en el marco del diplomado de ciencia de datos ofrecido por el departamento de estadística, en el cual se espera analizar imágenes satelitales para resolver un problema en la misma línea que Fregata Space\n",
    "</div>\n",
    "\n",
    "---"
   ]
  },
  {
   "cell_type": "markdown",
   "id": "7f1a0b1c-3b9c-4f56-890a-0d5c5e879eb6",
   "metadata": {},
   "source": [
    "<b> Asesor principal: </b> M.Sc. Daniel Mauricio Montenegro Reyes <br>\n",
    "<b> Autores: </b> B.Sc. Danny Julián Perilla Mikán, B.Sc. Judol Alejandro Rodríguez<br>  "
   ]
  },
  {
   "cell_type": "markdown",
   "id": "b3b42a49-f123-49a3-93b5-f45a6df83b9b",
   "metadata": {},
   "source": [
    "### <span style=\"color:#4361EE\">Introducción</span>"
   ]
  },
  {
   "cell_type": "markdown",
   "id": "ed75375d-eb09-455d-8514-cb7145637499",
   "metadata": {},
   "source": [
    "El presidente ha anunciado la creación del _Instituto de la Gestión del Agua de la Guajira_ mediante el Decreto 1250 del 26 de julio de 2023, en línea con sus esfuerzos por mejorar el acceso al agua y saneamiento básico en el departamento. Esta nueva entidad surge como una respuesta crucial para abordar la gestión de los recursos hídricos en la Guajira y reducir la vulnerabilidad de la población frente a las amenazas económicas, sociales y ambientales asociadas a la escasez de agua en la región.\n",
    "\n",
    "El Instituto, que tendrá su sede en la ciudad de Riohacha, asume un papel clave al ejecutar planes de conservación y proyección de los recursos hídricos locales. Además, se enfocará en desarrollar estrategias innovadoras que integren nuevas tecnologías, todo con el objetivo primordial de asegurar el acceso al agua potable y saneamiento para los habitantes de la región. En este orden de ideas, éste proyecto está pensado para ofrecer una plan de logística de distribución de agua urgente y eficiente que atienda a las poblaciones vulnerables y que vaya en consonancia con los desafíos climáticos y de armonización del uso del agua, con especial énfasis en el consumo humano.<br>\n",
    "\n",
    "Fuente: https://www.iagua.es/noticias/redaccion-iagua/colombia-gobierno-nacional-crea-instituto-gestion-agua-guajira"
   ]
  },
  {
   "cell_type": "markdown",
   "id": "5c42a0c4-fca8-4460-b9a7-79e655ac3cc3",
   "metadata": {
    "tags": []
   },
   "source": [
    "### <span style=\"color:#4361EE\">Descripción del problema</span>"
   ]
  },
  {
   "cell_type": "markdown",
   "id": "9cad670c-8f3d-4e8d-9cf7-ffa159ad6270",
   "metadata": {},
   "source": []
  },
  {
   "cell_type": "markdown",
   "id": "585c3ae4-18c7-473f-b2aa-5882620e01eb",
   "metadata": {},
   "source": [
    "### <span style=\"color:#4361EE\">Objetivos del Proyecto</span>"
   ]
  },
  {
   "cell_type": "markdown",
   "id": "de7060ef-678b-4638-a0a5-4ed0e5d6bec5",
   "metadata": {},
   "source": [
    "<b> Objetivo General: </b> \n",
    "\n",
    "Diseñar una red de distribución de agua potable en la Guajira y de riego para la agricultura que cubra los problemas de seguridad alimentaria de modo que sea eficiente y que atienda a las poblaciones.\n",
    "    \n",
    "<b> Objetivos específicos:</b> \n",
    "- Identificar _reservorios y fuentes de agua_, y verificar la _calidad del agua_ y su posible uso para el consumo humano. \n",
    "- Identificar qué _suelos o zonas_ pueden ser aptos para la agricultura. \n",
    "- Identificar poblaciones con acceso limitado al agua y con alta inseguridad alimentaria. \n",
    "- Diseñar una red entre las fuentes de agua, las potenciales zonas de agricultura y las poblaciones vulnerables tal que se optimicen costos y se maximice el acceso al agua y a los alimentos generados de la actividad agrícola. "
   ]
  },
  {
   "cell_type": "markdown",
   "id": "1e9a391e-0039-49e2-9d62-d1eb42655c8b",
   "metadata": {},
   "source": [
    "### <span style=\"color:#4361EE\">Fuentes de datos (TBD) </span>"
   ]
  },
  {
   "cell_type": "markdown",
   "id": "29a28402-6dba-44df-bce7-cf93e615cf58",
   "metadata": {
    "tags": []
   },
   "source": [
    "- _Posibles fuentes: [Fregata Space](https://fregataspace.com/), [Grundo](https://grundo.io/)_, <span style=\"color:green;\">ellos podrían darme imagenes o datos ya procesados por algoritmos.</span> <br>\n",
    "- Para trabajar datos \"crudos\", sobre los que no se haya hecho \"nada\", seguramente las fuentes sean los satélites de Sentinel o de Landsat. Estas dos misiones ofrecen imagenes satelitales, multiespectrales o de radar, con unas determinadas frecuencias y resoluciones maximas, de libre acceso (consultar https://scihub.copernicus.eu).\n",
    "\n",
    "\n",
    "\n",
    "<b> Herramientas complementarias: </b> _Eo Browser_ es una interfaz que usa imágenes de uso libre que permite trabajar con estas imagenes de forma sencilla (consultar https://sentinelshare.page.link/XXdj). También se puede explorar algunas de sus posibilidades en el siguiente enlace: https://custom-scripts.sentinel-hub.com/custom-scripts/sentinel/sentinel-2/. <br>\n",
    "    \n",
    " \n",
    "\n",
    "    \n",
    "<b> Posibles conocimientos para el desarrollo del proyecto: </b> <br>\n",
    "- Bases de datos relacionales y no relacionales.\n",
    "- Modelos supervisados: explicativos o predictivos.\n",
    "- Modelos no supervisados.\n",
    "- Modelos de lenguaje natural. <br>\n",
    "    \n",
    "_Estos ejemplos de conocimientos para el desarrollo del proyecto no deben ser considerados como obligatorios, sino más bien como una guía de posibles líneas de trabajo proporcionada por los docentes en el marco del diplomado._ "
   ]
  },
  {
   "cell_type": "markdown",
   "id": "6005f022-e0b0-4528-a6a5-a948c79278ea",
   "metadata": {},
   "source": [
    "### <span style=\"color:#4361EE\">Procesamiento ETL (TBD) </span>"
   ]
  },
  {
   "cell_type": "markdown",
   "id": "9b5d08d4-ab6a-4ca9-96af-0819a03d25fe",
   "metadata": {},
   "source": [
    "(ETL significa Extracción, Transformación y Carga de datos)_. <br> Describen como se hará todo el preprocesamiento de información. <br>"
   ]
  },
  {
   "cell_type": "markdown",
   "id": "fdb658f3-e6c6-4574-af45-f368c549a4fa",
   "metadata": {},
   "source": [
    "#### Recopilación de datos"
   ]
  },
  {
   "cell_type": "markdown",
   "id": "bc1c65ce-e48b-4bd6-8a81-9a7a8c5a940d",
   "metadata": {},
   "source": [
    "#### Calidad e Integridad de los datos"
   ]
  },
  {
   "cell_type": "markdown",
   "id": "012db674-5101-479d-bfc7-96c8845b6282",
   "metadata": {},
   "source": [
    "#### Limpieza y pre-procesamiento"
   ]
  },
  {
   "cell_type": "markdown",
   "id": "a671b749-c356-40f3-a294-54a1188321b9",
   "metadata": {},
   "source": [
    "### <span style=\"color:#4361EE\">Exploración de los datos</span>"
   ]
  },
  {
   "cell_type": "markdown",
   "id": "fb18f051-4be3-4adf-9c12-af481830658c",
   "metadata": {},
   "source": [
    "Indicar qué técnicas usaremos inicialmente para describir y entender los datos: Muestras de los datos, estadísticas y grafica univariadas, Técnicas factoriales, etc., <span style=\"color:green;\">(preguntarle a Kennet y a Daniel Montenegro cuáles son las técnicas habituales para el análisis de imágenes satelitales). Respuesta de Kennet: _\"puedes pensar en las imagenes como un \"conjunto de fotografías\" posicionadas espacialmente. Con conjunto me refiero a que ya sean imagenes SAR o Multiespectrales, estas en últimas son varias \"fotos\" de una misma zona, tomadas en distintas partes del espectro y obviamente, con una ubicación en un mapa\"._</span> <br>\n",
    "    "
   ]
  },
  {
   "cell_type": "markdown",
   "id": "0953345e-6787-48b6-a2ca-4073f66e2741",
   "metadata": {},
   "source": [
    "#### Análisis Exploratorio de datos (EDA)"
   ]
  },
  {
   "cell_type": "markdown",
   "id": "8a1ef667-23b6-4154-820a-87fe5e14d054",
   "metadata": {},
   "source": [
    "#### Visualización de Datos"
   ]
  },
  {
   "cell_type": "markdown",
   "id": "fa0aa963-d423-4cae-ad7f-36bf154d125b",
   "metadata": {},
   "source": [
    "#### Identificación de patrones"
   ]
  },
  {
   "cell_type": "markdown",
   "id": "a399d123-1638-43c5-8df9-627e27da9cf6",
   "metadata": {},
   "source": [
    "### <span style=\"color:#4361EE\">Preparación de Datos</span>"
   ]
  },
  {
   "cell_type": "markdown",
   "id": "f847fef8-3eed-4d44-85fd-a8e84b26a054",
   "metadata": {},
   "source": [
    "### <span style=\"color:#4361EE\">Modelado</span>"
   ]
  },
  {
   "cell_type": "markdown",
   "id": "628e0e7e-d11e-46bd-96dc-27b8c2e0eff2",
   "metadata": {},
   "source": [
    "<b>Técnicas de modelación propuestas: </b> Se espera que hayan sido discutidas con algún asesor previamente <span style=\"color:green;\">(preguntar a Kennet y con Daniel Montenegro)</span>.<br>"
   ]
  },
  {
   "cell_type": "markdown",
   "id": "90f1bb59-a1fb-4c72-aeb8-ec8923f624b7",
   "metadata": {
    "tags": []
   },
   "source": [
    "#### Selección de algoritmos y modelos"
   ]
  },
  {
   "cell_type": "markdown",
   "id": "97d6a2d9-68d6-470c-942c-e76d5f3ae73e",
   "metadata": {
    "tags": []
   },
   "source": [
    "#### Entrenamiento y ajuste de modelos"
   ]
  },
  {
   "cell_type": "markdown",
   "id": "6fc5d61a-2eb9-4484-a405-2b355da47b33",
   "metadata": {
    "tags": []
   },
   "source": [
    "#### Rendimiento y ajuste de hiperparámetros"
   ]
  },
  {
   "cell_type": "markdown",
   "id": "aa659023-a72b-4087-b509-f9637bea92be",
   "metadata": {},
   "source": [
    "### <span style=\"color:#4361EE\">Evaluación y Métricas</span>"
   ]
  },
  {
   "cell_type": "code",
   "execution_count": null,
   "id": "cc5eef1e-0386-460e-9209-5c5bd565f8d2",
   "metadata": {},
   "outputs": [],
   "source": []
  },
  {
   "cell_type": "markdown",
   "id": "5943ae4a-f1d5-4b6d-b2fb-b05d15c91e57",
   "metadata": {},
   "source": [
    "### <span style=\"color:#4361EE\">Resultados</span>"
   ]
  },
  {
   "cell_type": "markdown",
   "id": "9a1fd4c6-5b42-416f-8707-dfd6f5d230ef",
   "metadata": {},
   "source": [
    "#### Reporte de resultados"
   ]
  },
  {
   "cell_type": "markdown",
   "id": "6071c2d8-7799-4afe-8a23-ea7587b7068e",
   "metadata": {},
   "source": [
    "#### Recomendaciones o acciones"
   ]
  },
  {
   "cell_type": "markdown",
   "id": "0f6031b5-6b92-4986-befc-a54c11b3772d",
   "metadata": {},
   "source": [
    "### <span style=\"color:#4361EE\">Implementación de Soluciones </span>"
   ]
  },
  {
   "cell_type": "markdown",
   "id": "384de1d5-032b-4d09-99ba-9daeebff4146",
   "metadata": {},
   "source": [
    "### <span style=\"color:#4361EE\">Bibliografía </span>"
   ]
  },
  {
   "cell_type": "markdown",
   "id": "5a5d3438-4eb3-45b7-b5cb-c7746c554c70",
   "metadata": {
    "tags": []
   },
   "source": [
    "\n",
    "- Para la parte de ciencia de datos, repositorio del curso: https://github.com/AprendizajeProfundo/diplomado-ciencia-de-datos.\n",
    "- Para la parte de redes: estoy en la busqueda aunque también le pedí referencias al profe Alejandro Riascos que sabe bastante de redes. "
   ]
  }
 ],
 "metadata": {
  "kernelspec": {
   "display_name": "Python 3 (ipykernel)",
   "language": "python",
   "name": "python3"
  },
  "language_info": {
   "codemirror_mode": {
    "name": "ipython",
    "version": 3
   },
   "file_extension": ".py",
   "mimetype": "text/x-python",
   "name": "python",
   "nbconvert_exporter": "python",
   "pygments_lexer": "ipython3",
   "version": "3.11.3"
  }
 },
 "nbformat": 4,
 "nbformat_minor": 5
}
