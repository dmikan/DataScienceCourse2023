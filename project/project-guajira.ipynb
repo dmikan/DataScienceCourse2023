{
 "cells": [
  {
   "cell_type": "markdown",
   "id": "29a28402-6dba-44df-bce7-cf93e615cf58",
   "metadata": {
    "tags": []
   },
   "source": [
    "# Acceso a agua potable en la Guajira:\n",
    "    \n",
    "Durante el mes de agosto y septiembre se realizará un proyecto de análisis de imágenes satelitales en el marco del diplomado de ciencia de datos ofrecido por el departamento de estadística, en el cual se espera analizar imágenes satelitales para resolver un problema en la misma línea que [Fregata Space](https://fregataspace.com/). <br>\n",
    "        \n",
    "<b> Asesor principal: </b> Daniel Mauricio Montenegro Reyes <br>\n",
    "<b> Participantes en el diplomado: </b> Danny Julián Perilla Mikán.<br>  \n",
    "    \n",
    "<b>Introducción:</b>  El presidente ha anunciado la creación del _Instituto de la Gestión del Agua de la Guajira_ mediante el Decreto 1250 del 26 de julio de 2023, en línea con sus esfuerzos por mejorar el acceso al agua y saneamiento básico en el departamento. Esta nueva entidad surge como una respuesta crucial para abordar la gestión de los recursos hídricos en la Guajira y reducir la vulnerabilidad de la población frente a las amenazas económicas, sociales y ambientales asociadas a la escasez de agua en la región.\n",
    "\n",
    "El Instituto, que tendrá su sede en la ciudad de Riohacha, asume un papel clave al ejecutar planes de conservación y proyección de los recursos hídricos locales. Además, se enfocará en desarrollar estrategias innovadoras que integren nuevas tecnologías, todo con el objetivo primordial de asegurar el acceso al agua potable y saneamiento para los habitantes de la región. En este orden de ideas, éste proyecto está pensado para ofrecer una plan de logística de distribución de agua urgente y eficiente que atienda a las poblaciones vulnerables y que vaya en consonancia con los desafíos climáticos y de armonización del uso del agua, con especial énfasis en el consumo humano.<br>\n",
    "\n",
    "Fuente: https://www.iagua.es/noticias/redaccion-iagua/colombia-gobierno-nacional-crea-instituto-gestion-agua-guajira\n",
    "\n",
    "<b> Objetivo General: </b> Diseñar una red de distribución de agua potable en la Guajira y de riego para la agricultura que cubra los problemas de seguridad alimentaria de modo que sea eficiente y que atienda a las poblaciones.\n",
    "    \n",
    "<b> Objetivos específicos:</b> \n",
    "- Identificar _reservorios y fuentes de agua_, y verificar la _calidad del agua_ y su posible uso para el consumo humano. \n",
    "- Identificar qué _suelos o zonas_ pueden ser aptos para la agricultura. \n",
    "- Identificar poblaciones con acceso limitado al agua y con alta inseguridad alimentaria. \n",
    "- Diseñar una red entre las fuentes de agua, las potenciales zonas de agricultura y las poblaciones vulnerables tal que se optimicen costos y se maximice el acceso al agua y a los alimentos generados de la actividad agrícola.  \n",
    "    \n",
    "<b> Posibles fuentes de los datos:</b> Aún por definir.<br>\n",
    "- _Posibles fuentes: [Fregata Space](https://fregataspace.com/), [Grundo](https://grundo.io/)_, <span style=\"color:green;\">ellos podrían darme imagenes o datos ya procesados por algoritmos.</span> <br>\n",
    "- Para trabajar datos \"crudos\", sobre los que no se haya hecho \"nada\", seguramente las fuentes sean los satélites de Sentinel o de Landsat. Estas dos misiones ofrecen imagenes satelitales, multiespectrales o de radar, con unas determinadas frecuencias y resoluciones maximas, de libre acceso (consultar https://scihub.copernicus.eu).\n",
    "\n",
    "<b> Bibliografía: </b> \n",
    "- Para la parte de ciencia de datos, repositorio del curso: https://github.com/AprendizajeProfundo/diplomado-ciencia-de-datos.\n",
    "- Para la parte de redes: estoy en la busqueda aunque también le pedí referencias al profe Alejandro Riascos que sabe bastante de redes. \n",
    "\n",
    "<b> Herramientas complementarias: </b> _Eo Browser_ es una interfaz que usa imágenes de uso libre que permite trabajar con estas imagenes de forma sencilla (consultar https://sentinelshare.page.link/XXdj). También se puede explorar algunas de sus posibilidades en el siguiente enlace: https://custom-scripts.sentinel-hub.com/custom-scripts/sentinel/sentinel-2/. <br>\n",
    "    \n",
    "<b> Procesamiento ETL: </b> Aún por definir. _(ETL significa Extracción, Transformación y Carga de datos)_. <br> Describen como se hará todo el preprocesamiento de información. <br> \n",
    "\n",
    "<b> Exploración de los datos: </b> Indicar qué técnicas usaremos inicialmente para describir y entender los datos: Muestras de los datos, estadísticas y grafica univariadas, Técnicas factoriales, etc., <span style=\"color:green;\">(preguntarle a Kennet y a Daniel Montenegro cuáles son las técnicas habituales para el análisis de imágenes satelitales). Respuesta de Kennet: _\"puedes pensar en las imagenes como un \"conjunto de fotografías\" posicionadas espacialmente. Con conjunto me refiero a que ya sean imagenes SAR o Multiespectrales, estas en últimas son varias \"fotos\" de una misma zona, tomadas en distintas partes del espectro y obviamente, con una ubicación en un mapa\"._</span> <br>\n",
    "    \n",
    "<b>Técnicas de modelación propuestas: </b> Se espera que hayan sido discutidas con algún asesor previamente <span style=\"color:green;\">(preguntar a Kennet y con Daniel Montenegro)</span>.<br>\n",
    "    \n",
    "<b> Posibles conocimientos para el desarrollo del proyecto: </b> <br>\n",
    "- Bases de datos relacionales y no relacionales.\n",
    "- Modelos supervisados: explicativos o predictivos.\n",
    "- Modelos no supervisados.\n",
    "- Modelos de lenguaje natural. <br>\n",
    "    \n",
    "_Estos ejemplos de conocimientos para el desarrollo del proyecto no deben ser considerados como obligatorios, sino más bien como una guía de posibles líneas de trabajo proporcionada por los docentes en el marco del diplomado._ "
   ]
  }
 ],
 "metadata": {
  "kernelspec": {
   "display_name": "Python 3 (ipykernel)",
   "language": "python",
   "name": "python3"
  },
  "language_info": {
   "codemirror_mode": {
    "name": "ipython",
    "version": 3
   },
   "file_extension": ".py",
   "mimetype": "text/x-python",
   "name": "python",
   "nbconvert_exporter": "python",
   "pygments_lexer": "ipython3",
   "version": "3.10.9"
  }
 },
 "nbformat": 4,
 "nbformat_minor": 5
}
