{
 "cells": [
  {
   "cell_type": "markdown",
   "id": "6767b337-7a69-4a1b-b685-5e62baea565f",
   "metadata": {},
   "source": [
    "# Ciencia de datos y ML aplicado en algunas tareas de GIDA: \n",
    "\n",
    "En el area de ciencia de datos y machine learning tenemos los siguientes subproyectos. El primer subproyecto realmente ya se está desarrollando en el grupo de <b> Satélites</b>. El segundo es una idea general y punto de partida para realizar subproyectos en la línea del análisis de datos satelitales. El tercero es un subproyecto en el grupo de ALPHA-ARES.     \n",
    "1. <b> Web scrapping de satélites:</b> este subproyecto va encaminado a la extracción, procesamiento y uso de los datos obtenidos de páginas web que nos permitan obtener información relevante como frecuencia, coordenadas de trayectoria en tiempo real, etc. <span style=\"color:green;\">Este subproyecto actualmente se encuentra en curso en el grupo de Satélites.</span><br> \n",
    "    \n",
    "    \n",
    "2. <b>Análisis de imágenes satelitales usando machine learning:</b> este subproyecto pretende  aprovechar las técnicas de machine learning para procesar y analizar imágenes satelitales con el objetivo de obtener información valiosa para la investigación y desarrollo aeroespacial, la creación y aplicación de algoritmos de aprendizaje automático para extraer patrones, características y datos significativos de las imágenes obtenidas desde satélites. De acuerdo a uno de los objetivos del proyecto <b> Satélites </b> en el cual textualmente dice: <b> \"desarrollar habilidades para poder captar, procesar y utilizar correctamente las señales provenientes de satélites en órbita\"</b>, se propone, aprender a procesar imagenes satelitales que puedan aportar a soluciones a problemas relacionados con el desarrollo aeroespacial y que a su vez tengan impacto en areas ambientales, de cambio climático (véanse por ejemplo proyectos de este tipo en [Fregata Space](https://fregataspace.com/)), areas de impacto económico en otros sectores industriales: agricultura, energía, telecomunicaciones e infraestructura (véanse proyectos de este tipo en [Grundo](https://grundo.io/)). <span style=\"color:green;\">Este subproyecto actualmente se encuentra en etapa de propuesta, véanse propuesta más abajo en anexo 1.</span><br> \n",
    "\n",
    "3. <b> Navegación automática:</b> Este subproyecto es una actualización al rover Ares para incorporar navegación automática. Se desea que el rover pueda realizar tareas de forma autónoma.  Tomar decisiones en tiempo real como evitar posibles peligros, adaptarse a cambios inesperados y la recalibrar ruta si es necesario. <span style=\"color:green;\">Este subproyecto está planeado para empezarse a desarrollar a partir de octubre del 2023.</span><br>    "
   ]
  },
  {
   "cell_type": "markdown",
   "id": "29a28402-6dba-44df-bce7-cf93e615cf58",
   "metadata": {
    "tags": []
   },
   "source": [
    "# Anexo 1:\n",
    "    \n",
    "Durante el mes de agosto y septiembre se propone realizar un subproyecto de análisis de imágenes satelitales en el marco del diplomado de ciencia de datos ofrecido por el departamento de estadística, en el cual se espera analizar imágenes satelitales para resolver un problema en la misma línea que Fregata Space. El tiempo estimado de este subproyecto es de 6 semanas cuando el diplomado concluya sin embargo, éste podrá servir como insumo para continuar desarrollando este proyecto sino que además hayan nuevos estudios en esta area dentro del grupo GIDA y complementar el subproyecto de rastreo de satelites actualmente en curso. <br>\n",
    "        \n",
    "<b> Asesor principal: </b> Daniel Mauricio Montenegro Reyes <br>\n",
    "<b> Participantes en el diplomado: </b> Danny Julián Perilla Mikán.<br>  \n",
    "    \n",
    "<b>Introducción:</b>  El presidente ha anunciado la creación del _Instituto de la Gestión del Agua de la Guajira_ mediante el Decreto 1250 del 26 de julio de 2023, en línea con sus esfuerzos por mejorar el acceso al agua y saneamiento básico en el departamento. Esta nueva entidad surge como una respuesta crucial para abordar la gestión de los recursos hídricos en la Guajira y reducir la vulnerabilidad de la población frente a las amenazas económicas, sociales y ambientales asociadas a la escasez de agua en la región.\n",
    "\n",
    "El Instituto, que tendrá su sede en la ciudad de Riohacha, asume un papel clave al ejecutar planes de conservación y proyección de los recursos hídricos locales. Además, se enfocará en desarrollar estrategias innovadoras que integren nuevas tecnologías, todo con el objetivo primordial de asegurar el acceso a agua potable y saneamiento para los habitantes de la región. En estes orden de ideas, éste proyecto está pensado para ofrecer una plan de logística de distribuciurgente y eficiente que atienda las necesidades de agua y alimentos a las poblaciones vulnerables que vaya en consonancia con los desafíos climáticos y de armonización del uso del agua, con especial énfasis en el consumo humano.<br>\n",
    "\n",
    "Fuente: https://www.iagua.es/noticias/redaccion-iagua/colombia-gobierno-nacional-crea-instituto-gestion-agua-guajira\n",
    "    \n",
    "<b>Descripción del problema:</b> Conocer cómo puede ser implementada una red de distribución de agua potable en la Guajira y de riego para la agricultura que cubra los problemas de seguridad alimentaria de modo que sea eficiente y que atienda a las poblaciones.<br>\n",
    "    \n",
    "<b> Posibles fuentes de los datos:</b> Aún por definir. _Posibles fuentes: Fregata Space, Grundo_. <br>\n",
    "    \n",
    "<b> Procesamiento ETL: </b> Aún por definir. _(ETL significa Extracción, Transformación y Carga de datos)_. <br> Describen como se hará todo el preprocesamiento de información. <br> \n",
    "\n",
    "<b> Exploración de los datos: </b> Indicar qué técnicas usaremos inicialmente para describir y entender los datos: Muestras de los datos, estadísticas y grafica univariadas, Técnicas factoriales, etc., <span style=\"color:green;\">(podría ser interesante poder preguntarle a Kenneth y a Daniel Montenegro cuáles son las técnicas habituales para el análisis de imágenes satelitales)</span>\n",
    ". <br>\n",
    "    \n",
    "<b>Técnicas de modelación propuestas: </b> Se espera que hayan sido discutidas con algún asesor previamente <span style=\"color:green;\">(preguntar a Kenneth y con Daniel Montenegro)</span>.<br>\n",
    "    \n",
    "<b> Posibles conocimientos para el desarrollo del proyecto: </b> <br>\n",
    "- Bases de datos relacionales y no relacionales.\n",
    "- Modelos supervisados: explicativos o predictivos.\n",
    "- Modelos no supervisados.\n",
    "- Modelos de lenguaje natural. <br>\n",
    "    \n",
    "_Estos ejemplos de conocimientos para el desarrollo del proyecto no deben ser considerados como obligatorios, sino más bien como una guía de posibles líneas de trabajo proporcionada por los docentes en el marco del diplomado._  "
   ]
  }
 ],
 "metadata": {
  "kernelspec": {
   "display_name": "Python 3 (ipykernel)",
   "language": "python",
   "name": "python3"
  },
  "language_info": {
   "codemirror_mode": {
    "name": "ipython",
    "version": 3
   },
   "file_extension": ".py",
   "mimetype": "text/x-python",
   "name": "python",
   "nbconvert_exporter": "python",
   "pygments_lexer": "ipython3",
   "version": "3.11.4"
  }
 },
 "nbformat": 4,
 "nbformat_minor": 5
}
